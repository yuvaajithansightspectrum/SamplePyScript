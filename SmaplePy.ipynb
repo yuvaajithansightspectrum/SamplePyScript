{
  "cells": [
    {
      "cell_type": "markdown",
      "metadata": {
        "id": "view-in-github",
        "colab_type": "text"
      },
      "source": [
        "<a href=\"https://colab.research.google.com/github/yuvaajithansightspectrum/SamplePyScript/blob/main/SmaplePy.ipynb\" target=\"_parent\"><img src=\"https://colab.research.google.com/assets/colab-badge.svg\" alt=\"Open In Colab\"/></a>"
      ]
    },
    {
      "cell_type": "code",
      "source": [
        "print('yes')\n",
        "print('yes')"
      ],
      "metadata": {
        "id": "_3OcnINgAHHZ",
        "outputId": "a95a5330-0ca0-45e8-ecc0-ae44ffc8ec97",
        "colab": {
          "base_uri": "https://localhost:8080/"
        }
      },
      "execution_count": null,
      "outputs": [
        {
          "output_type": "stream",
          "name": "stdout",
          "text": [
            "File copied successfully from /content/sample_data/mnist_test.csv to /content/sample_data/file.txt\n",
            "yes\n",
            "yes\n"
          ]
        }
      ]
    }
  ],
  "metadata": {
    "colab": {
      "name": "Welcome To Colab",
      "provenance": [],
      "include_colab_link": true
    },
    "kernelspec": {
      "display_name": "Python 3",
      "name": "python3"
    }
  },
  "nbformat": 4,
  "nbformat_minor": 0
}